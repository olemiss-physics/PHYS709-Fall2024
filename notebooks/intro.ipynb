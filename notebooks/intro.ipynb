{
 "cells": [
  {
   "cell_type": "markdown",
   "metadata": {},
   "source": [
    "# Introduction to Python and Jupyter Notebooks\n",
    "\n",
    "Last revised: 09-Oct-2024 by Gavin S. Davies [gsdavies@olemiss.edu] <br>\n",
    "Based on original material by Dick Furnstahl [furnstahl.1@osu.edu], later revised by Heiko Hergert [hergert@frib.msu.edu]."
   ]
  },
  {
   "cell_type": "markdown",
   "metadata": {},
   "source": [
    "This Jupyter notebook provides some of the essentials you need to know about Python and Jupyter notebooks.  We will add and explain features as you proceed through the file. Future notebooks will add more functionality.\n",
    "\n",
    "-----\n",
    "## Part 1: Essentials\n",
    "-----\n",
    "\n",
    "## Notebooks and Cells\n",
    "A Jupyter notebook is displayed on a web browser on a computer, tablet (e.g., iPad), or even your smartphone.  The notebook is divided into *cells*, of which the two most popular types are:\n",
    "\n",
    "* Markdown cells: These have headings, text, and mathematical formulas in $\\LaTeX$ using a simple form of HTML called [Markdown](https://www.markdownguide.org/).\n",
    "* Code cells: These have Python code (or other languages, but we'll stick to Python).\n",
    "\n",
    "Either type of cell can be selected with your cursor and will be highlighted in color when active.  You **evaluate** an active cell by pressing `shift+enter` (as in *Mathematica*) or by hitting the play button on the toolbar, or selecting `Run->Run Selected Cell` from the menu.  Some notes:\n",
    "* When a new cell is inserted, it is a Code cell by default and will have `In []:` in front.  You can type Python expressions or entire programs in a cell!  How you break up code between cells is your choice; you can always put Markdown cells in between too. When you evaluate a cell it will be marked with a consecutive number, e.g., `In [5]:`.\n",
    "* The toolbar contains a pulldown menu that lets you change back and forth between Code and Markdown cells.  Once you evaluate a Markdown cell, it will be rendered (formatted), and marked with a blue border when selected.  To edit the Markdown cell, double-click on it.\n",
    "* Make heavy use of Markdown cells to document your code. **Document, document, document!**\n",
    "* Look at the formatting of each cell to quickly see examples of how to use the Markdown language to format this document.   \n",
    "\n",
    "**Try double-clicking on this cell and then `shift+enter`.**  You will see that a bullet list is created just with an asterisk and a space at the beginning of lines (without the space, or with one asterisk, text will be formatted in *italics* and with two asterisks text will be **bold**).  **Double click on the title header above and you'll see it starts with a single #.**  Headings of subsections are made using ## or ###.  See this [Markdown cheatsheet](https://github.com/adam-p/markdown-here/wiki/Markdown-Cheatsheet) for a quick tour of the Markdown language (including how to add hyperlinks!). Alternatively, you can read the [Markdown Guide Cheatsheet](https://www.markdownguide.org/cheat-sheet/). Markdown is a very powerful, future-proof format. For interest, I mention [Obsidian](https://obsidian.md/), a personal knowledge, note-taking app built on Markdown files. \n",
    "\n",
    "**Now try turning the next (empty) cell to a Markdown cell and type:** `Einstein says $E=mc^2$` **and then evaluate it.**  This is $\\LaTeX$! (If you forget to convert to Markdown and get `SyntaxError: invalid syntax`, just select the cell and convert to Markdown with the menu.)"
   ]
  },
  {
   "cell_type": "code",
   "execution_count": null,
   "metadata": {
    "editable": true,
    "slideshow": {
     "slide_type": ""
    },
    "tags": []
   },
   "outputs": [],
   "source": []
  },
  {
   "cell_type": "markdown",
   "metadata": {},
   "source": [
    "The menus enable you to rename your notebook file (always ending in `.ipynb`) or `Save and Checkpoint` to save the changes to your notebook.  You can insert and delete cells (use the up and down arrows in the toolbar to easily move cells).  You will often use the `Kernel` menu to `Restart` the notebook (and possibly clear output)."
   ]
  },
  {
   "cell_type": "markdown",
   "metadata": {},
   "source": [
    "## Python expressions and numpy\n",
    "\n",
    "We can use the Jupyter notebook as a super calculator much like Mathematica and Matlab.  **Try some basic operations, modifying and evaluating the following cells, noting that exponentiation is with** `**` **and not** `^`.\n",
    "Remember that you can ``Shift+Enter`` or hit the play button to execute "
   ]
  },
  {
   "cell_type": "code",
   "execution_count": null,
   "metadata": {},
   "outputs": [],
   "source": [
    " 1 + 1  # Everything after a number sign / pound sign / hashtag) \n",
    "        # is a comment. Document your code!"
   ]
  },
  {
   "cell_type": "code",
   "execution_count": null,
   "metadata": {},
   "outputs": [],
   "source": [
    "3.2 * 4.713"
   ]
  },
  {
   "cell_type": "markdown",
   "metadata": {},
   "source": [
    "Note that if we want a floating point number (which will be the same as a `double` in C++), we *always* include a decimal point (even when we don't have to) while a number without a decimal point is an integer."
   ]
  },
  {
   "cell_type": "code",
   "execution_count": null,
   "metadata": {},
   "outputs": [],
   "source": [
    "3.**2 # recall this is interpreted as 3^2, 3 squared"
   ]
  },
  {
   "cell_type": "markdown",
   "metadata": {},
   "source": [
    "We can define integer, floating point, and string variables, perform operations on them, and print them.  Note that we don't have to predefine the type of a variable and we can use underscores in the names (unlike Mathematica).  **Evaluate the following cells and then try your own versions.** "
   ]
  },
  {
   "cell_type": "code",
   "execution_count": null,
   "metadata": {
    "scrolled": true
   },
   "outputs": [],
   "source": [
    "x = 5.\n",
    "print(x)\n",
    "x   # If the last line of a cell returns a value, it is printed."
   ]
  },
  {
   "cell_type": "code",
   "execution_count": null,
   "metadata": {},
   "outputs": [],
   "source": [
    "y = 3.*x**2 - 2.*x + 7.\n",
    "print('y =', y)           # Strings delimited by ' 's\n",
    "print(f'y = {y:.0f}')     # Just a preview: more on format later \n",
    "print(f'y = {y:.2f}')     # (note that this uses the \"new\" fstring)"
   ]
  },
  {
   "cell_type": "code",
   "execution_count": null,
   "metadata": {},
   "outputs": [],
   "source": [
    "first_name = 'Albert'     # Strings delimited by ' 's\n",
    "last_name = 'Einstein'\n",
    "full_name = first_name + ' ' + last_name  # you can concatenate strings \n",
    "print(full_name)"
   ]
  },
  {
   "cell_type": "markdown",
   "metadata": {},
   "source": [
    "How about square roots and trigonometric functions and ..."
   ]
  },
  {
   "cell_type": "code",
   "execution_count": null,
   "metadata": {},
   "outputs": [],
   "source": [
    "sqrt(2)"
   ]
  },
  {
   "cell_type": "markdown",
   "metadata": {},
   "source": [
    "An error here is expected...try the next cell..."
   ]
  },
  {
   "cell_type": "code",
   "execution_count": null,
   "metadata": {},
   "outputs": [],
   "source": [
    "sin(pi)"
   ]
  },
  {
   "cell_type": "markdown",
   "metadata": {},
   "source": [
    "Again, error is expected. The reason is because we need to `import` these functions from a library. In this case, we will use the **numpy** library. There are other choices, but numpy works with the arrays we will use.  Note: <span style=\"color:red\">*Never*</span> use `from numpy import *` instead of `import numpy as np`. <br> Here `np` is just an abbreviation for numpy (which we can choose to be anything, but `np` is conventional).\n",
    "\n",
    "**Bonus**: If you interrogate this cell you can see how we can add colour to our Markdown. Markdown itself doesn't support colour, but we can inline HTML. That's another language to add to the repertoire!"
   ]
  },
  {
   "cell_type": "code",
   "execution_count": null,
   "metadata": {},
   "outputs": [],
   "source": [
    "import numpy as np"
   ]
  },
  {
   "cell_type": "markdown",
   "metadata": {},
   "source": [
    "If this import throws an error then likely we need to install **numpy** to our virtual environment. \n",
    "Go back to the terminal and run (with the virtual environment activated):\n",
    "```zsh\n",
    "pip3 install numpy\n",
    "```\n",
    "Then return to cell 14 (above) and re-evaluate it (`shift+enter`) and continue onwards."
   ]
  },
  {
   "cell_type": "markdown",
   "metadata": {},
   "source": [
    "### Debugging aside . . .\n",
    "\n",
    "Suppose you try to import and it fails (**go ahead and evaluate the cell**):"
   ]
  },
  {
   "cell_type": "code",
   "execution_count": null,
   "metadata": {
    "scrolled": true
   },
   "outputs": [],
   "source": [
    "import numpie"
   ]
  },
  {
   "cell_type": "markdown",
   "metadata": {},
   "source": [
    "When you get a `ModuleNotFoundError`, the first thing to check is whether you have misspelled the name. Try using Google, e.g., search for \"python numpie\". In this case (and in most others), Google (and your new best friend, [Stack Overflow](https://stackoverflow.com/) will suggest the correct name (here it is **numpy**).  If the name does exist, check whether it sounds like the package you wanted.\n",
    "\n",
    "If you have the correct spelling, check whether you have installed the relevant package.  This is where we use `pip3 install ...` as noted earlier.\n",
    "Assuming we have numpy installed, let's go ahead and import it, and test functions again:"
   ]
  },
  {
   "cell_type": "code",
   "execution_count": null,
   "metadata": {},
   "outputs": [],
   "source": [
    "import numpy as np"
   ]
  },
  {
   "cell_type": "code",
   "execution_count": null,
   "metadata": {},
   "outputs": [],
   "source": [
    "print(np.cos(0.))"
   ]
  },
  {
   "cell_type": "markdown",
   "metadata": {},
   "source": [
    "Now functions and constants like `np.sqrt` and `np.pi` will work.  Go back and fix the cells to evaluate the square root and sine functions.\n",
    "\n",
    "We are now at the point where we have sufficient functionality to set aside our calculators."
   ]
  },
  {
   "cell_type": "markdown",
   "metadata": {},
   "source": [
    "### numpy arrays\n",
    "\n",
    "It will often be helpful to use numpy arrays so let's discuss them.  They are *like* lists delimited by square brackets, i.e., `[]`s, and we will construct them with `np.arange(min, max, step)` to get an array from `min` to `max` in steps of `step`. \n",
    "\n",
    "Read that as \"a range\" not arrange -- it's not a typo.\n",
    "\n",
    "Examples:"
   ]
  },
  {
   "cell_type": "code",
   "execution_count": null,
   "metadata": {
    "scrolled": true
   },
   "outputs": [],
   "source": [
    "t_pts = np.arange(0., 10., .1) # min 0, max 10, step size 0.1\n",
    "t_pts"
   ]
  },
  {
   "cell_type": "markdown",
   "metadata": {},
   "source": [
    "Notice that the maximum value 10 is not included. Now is a good time to look at the documentation for the [numpy arange](https://numpy.org/doc/stable/reference/generated/numpy.arange.html) function. You should be able to see that the max is excluded.\n",
    "\n",
    "If we give a numpy array to a function, each term in the list is evaluated with that function:"
   ]
  },
  {
   "cell_type": "code",
   "execution_count": null,
   "metadata": {},
   "outputs": [],
   "source": [
    "x = np.arange(1., 5., 1.) #min 1, max 5, step size 1, i.e. 1,2,3,4,5\n",
    "print(x)\n",
    "print(x**2)\n",
    "print(np.sqrt(x))"
   ]
  },
  {
   "cell_type": "markdown",
   "metadata": {},
   "source": [
    "We can pick out elements of the list.  Why does the last one fail? Fix it."
   ]
  },
  {
   "cell_type": "code",
   "execution_count": null,
   "metadata": {},
   "outputs": [],
   "source": [
    "print(x[0])\n",
    "print(x[3])\n",
    "print(x[4])"
   ]
  },
  {
   "cell_type": "markdown",
   "metadata": {},
   "source": [
    "## Getting help\n",
    "\n",
    "You will often need help identifying the appropriate **Python** (or **numpy** or **scipy** or ...) command, an example of how to do something, or you may get an error message you can't figure out.  In all of these cases, Google (or equivalent) is your friend. Always include \"python\" in the search string (or \"numpy\" or \"matplotlib\" or ...) to avoid getting results for a different language. You will usually get an online manual as one of the first responses if you ask about a function; these usually have examples if you scroll down. Otherwise, answers to [Stack Overflow](https://stackoverflow.com) queries are your best bet to find useful information. Indeed, [ChatGPT](https://chatgpt.com/) is also a useful resource to point you in the right direction."
   ]
  },
  {
   "cell_type": "markdown",
   "metadata": {},
   "source": [
    "## Functions\n",
    "\n",
    "There are many Python language features that you will use eventually, but the first thing you'll need in the short term are **functions**.  Here we will see the role of *indentation* in Python, which takes the place of parentheses ({}s or ()s) and semicolons in other programming languages.  We'll always indent by multiples of **four spaces (never tabs!)**.  We know a function definition is complete when the indentation stops. This is Python code convention, [read it for yourself](https://peps.python.org/pep-0008/), but do not be surprised to engage in a 4 spaces vs. 2 spaces debate in the future.\n",
    "\n",
    "To find out about a Python function or one you define, put your cursor on the function name and hit shift+Tab+Tab. **Go back and try it on `np.arange`, or on the print function in the cell below.** If it doesn't do anything, try importing numpy again first."
   ]
  },
  {
   "cell_type": "code",
   "execution_count": null,
   "metadata": {},
   "outputs": [],
   "source": [
    "# Use \"def\" to create new functions.  \n",
    "#  Note the colon and indentation (4 spaces).\n",
    "def my_function(x):\n",
    "    \"\"\"This function squares the input.  Always include a brief description\n",
    "        at the top between three starting and three ending quotes.  We will\n",
    "        talk more about proper documentation later.\n",
    "        Try shift+Tab+Tab after you have evaluated this function.\n",
    "    \"\"\"\n",
    "    return x**2\n",
    "\n",
    "print(my_function(5.))\n",
    "\n",
    "# We can pass an array to the function and it is evaluated term-by-term.\n",
    "x_pts = np.arange(1.,10.,1.)\n",
    "print(my_function(x_pts))"
   ]
  },
  {
   "cell_type": "code",
   "execution_count": null,
   "metadata": {
    "scrolled": true
   },
   "outputs": [],
   "source": [
    "# Two variables, with a default for the second\n",
    "def add(x, y=4.):\n",
    "    \"\"\"Add two numbers.\"\"\"\n",
    "    print(\"x is {} and y is {}\".format(x, y))\n",
    "    return x + y  # Return values with a return statement\n",
    "\n",
    "# Calling functions with parameters\n",
    "print('The sum is ', add(5, 6))  # => prints out \"x is 5 and y is 6\" and returns 11\n",
    "\n",
    "# Another way to call functions is with keyword arguments\n",
    "add(y=6, x=5)  # Keyword arguments can arrive in any order.\n"
   ]
  },
  {
   "cell_type": "markdown",
   "metadata": {},
   "source": [
    "How do you explain the following result?"
   ]
  },
  {
   "cell_type": "code",
   "execution_count": null,
   "metadata": {},
   "outputs": [],
   "source": [
    "add(2)"
   ]
  },
  {
   "cell_type": "markdown",
   "metadata": {},
   "source": [
    "### Debugging aside . . .\n",
    "\n",
    "There are two bugs in the following function.  **Note the line where an error is first reported and fix the bugs sequentially (so you see the different error messages).**"
   ]
  },
  {
   "cell_type": "code",
   "execution_count": null,
   "metadata": {},
   "outputs": [],
   "source": [
    "def hello_function()\n",
    "    msg = \"hello, world!\"\n",
    "    print(msg)\n",
    "     return msg"
   ]
  },
  {
   "cell_type": "markdown",
   "metadata": {},
   "source": [
    "------\n",
    "## Part 2: Plotting with Matplotlib\n",
    "------\n",
    "Matplotlib is the plotting library we'll use, at least at first.  We'll follow convention and abbreviate the module we need as `plt`.  \n",
    "\n",
    "The `%matplotlib inline` command tells the Jupyter notebook to make inline plots (we'll see other possibilities later)."
   ]
  },
  {
   "cell_type": "code",
   "execution_count": null,
   "metadata": {},
   "outputs": [],
   "source": [
    "%matplotlib inline\n",
    "\n",
    "import numpy as np\n",
    "import matplotlib.pyplot as plt"
   ]
  },
  {
   "cell_type": "markdown",
   "metadata": {},
   "source": [
    "Once again, if this throws a `ModuleNotFound` error, recall how we installed the missing `numpy` library earlier and go ahead and do the same for `matplotlib`, then retun and evaluate this cell again."
   ]
  },
  {
   "cell_type": "markdown",
   "metadata": {},
   "source": [
    "Here is the general procedure we will use to make a skeleton plot:\n",
    "0. Generate some data to plot in the form of arrays.\n",
    "1. Create a figure;\n",
    "2. add one or more subplots;\n",
    "3. make a plot and display it."
   ]
  },
  {
   "cell_type": "code",
   "execution_count": null,
   "metadata": {},
   "outputs": [],
   "source": [
    "t_pts = np.arange(0., 10., .1)     # step 0.\n",
    "x_pts = np.sin(t_pts)  # More often this would be from a function \n",
    "                       #  *you* write.\n",
    "\n",
    "my_fig = plt.figure()              # step 1.\n",
    "my_ax = my_fig.add_subplot(1,1,1)  # step 2: rows=1, cols=1, 1st subplot\n",
    "my_ax.plot(t_pts, x_pts)           # step 3: plot x (on y-axis) vs. t (on x-axis)"
   ]
  },
  {
   "cell_type": "markdown",
   "metadata": {},
   "source": [
    "**NOTE:** For single plots, you will usually see steps 1-3 compressed into `plt.plot(t_pts, np.sin(t_pts))`.</br>\n",
    "## <span style=\"color:red\">**Do not do this.**</span>  \n",
    "It saves a couple of lines but restricts your ability to easily extend the plot, which is what we want to make easy."
   ]
  },
  {
   "cell_type": "markdown",
   "metadata": {},
   "source": [
    "We should always go back and clean up the plot because at a minimum we will need axis labels (coming up):"
   ]
  },
  {
   "cell_type": "code",
   "execution_count": null,
   "metadata": {},
   "outputs": [],
   "source": [
    "my_fig = plt.figure()\n",
    "my_ax = my_fig.add_subplot(1,1,1)  # nrows=1, ncols=1, first plot\n",
    "my_ax.plot(t_pts, x_pts, color='blue', linestyle='--', label='sine')\n",
    "\n",
    "my_ax.set_xlabel('t')\n",
    "my_ax.set_ylabel(r'$\\sin(t)$')  # here $s to get LaTeX and r to render it\n",
    "my_ax.set_title('Sine wave')\n",
    "\n",
    "# here we'll put the function in the call to plot!\n",
    "my_ax.plot(t_pts, np.cos(t_pts), label='cosine')  # just label the plot\n",
    "\n",
    "my_ax.legend();  # turn on legend\n"
   ]
  },
  {
   "cell_type": "markdown",
   "metadata": {},
   "source": [
    "Now make two subplots:"
   ]
  },
  {
   "cell_type": "code",
   "execution_count": null,
   "metadata": {},
   "outputs": [],
   "source": [
    "y_pts = np.exp(t_pts)         # another function for a separate plot\n",
    "\n",
    "fig = plt.figure(figsize=(10,5))  # allow more room for two subplots\n",
    "\n",
    "# call the first axis ax1\n",
    "ax1 = fig.add_subplot(1,2,1)  # one row, two columns, first plot\n",
    "ax1.plot(t_pts, x_pts, color='blue', linestyle='--', label='sine')\n",
    "ax1.plot(t_pts, np.cos(t_pts), label='cosine')  # just label the plot\n",
    "ax1.legend()\n",
    "\n",
    "ax2 = fig.add_subplot(1,2,2)  # one row, two columns, second plot\n",
    "ax2.plot(t_pts, np.exp(t_pts), label='exponential')  \n",
    "ax2.legend();\n"
   ]
  },
  {
   "cell_type": "markdown",
   "metadata": {},
   "source": [
    "## Iterating through a list of parameters to draw multiple lines on a plot\n",
    "\n",
    "Suppose we have a function of $x$ that also depends on a parameter (call it $r$).  We want to plot the function vs. $x$ for multiple values of $r$, either on the same plot or on separate plots.  We can do this with a lot of cutting-and-pasting, but how can we do it based on a list of $r$ values, which we can easily modify?"
   ]
  },
  {
   "cell_type": "code",
   "execution_count": null,
   "metadata": {},
   "outputs": [],
   "source": [
    "import numpy as np\n",
    "import matplotlib.pyplot as plt"
   ]
  },
  {
   "cell_type": "code",
   "execution_count": null,
   "metadata": {},
   "outputs": [],
   "source": [
    "def sine_map(r, x):\n",
    "    \"\"\"Sine map function: f_r(x) = r sin(pi x)\n",
    "    \"\"\"\n",
    "    return r * np.sin(np.pi * x) "
   ]
  },
  {
   "cell_type": "markdown",
   "metadata": {},
   "source": [
    "Suppose the $r$ values initially of interest are 0.3, 0.5, 0.8, and 0.9.  First the multiple copy approach:"
   ]
  },
  {
   "cell_type": "code",
   "execution_count": null,
   "metadata": {},
   "outputs": [],
   "source": [
    "x_pts = np.linspace(0,1, num=101, endpoint=True)\n",
    "\n",
    "fig = plt.figure()\n",
    "ax = fig.add_subplot(1,1,1)\n",
    "ax.set_aspect(1)\n",
    "\n",
    "ax.plot(x_pts, x_pts, color='black')  # black y=x line\n",
    "\n",
    "ax.plot(x_pts, sine_map(0.3, x_pts), label='$r = 0.3$')\n",
    "ax.plot(x_pts, sine_map(0.5, x_pts), label='$r = 0.5$')\n",
    "ax.plot(x_pts, sine_map(0.8, x_pts), label='$r = 0.8$')\n",
    "ax.plot(x_pts, sine_map(0.9, x_pts), label='$r = 0.9$')\n",
    "\n",
    "ax.legend()\n",
    "ax.set_xlabel(r'$x$')\n",
    "ax.set_ylabel(r'$f(x)$')\n",
    "ax.set_title('sine map')\n",
    "\n",
    "fig.tight_layout()\n"
   ]
  },
  {
   "cell_type": "markdown",
   "metadata": {},
   "source": [
    "This certainly works, but making changes is awkward and prone to error because we have to find where to change (or add another) $r$ but we might not remember to change it correctly everywhere.\n",
    "\n",
    "With minor changes we have a much better implementation (try modifying the list of $r$ values):"
   ]
  },
  {
   "cell_type": "code",
   "execution_count": null,
   "metadata": {
    "scrolled": true
   },
   "outputs": [],
   "source": [
    "r_list = [0.3, 0.5, 0.8, 0.9]    # this could also be a numpy array\n",
    "\n",
    "x_pts = np.linspace(0,1, num=101, endpoint=True)\n",
    "\n",
    "fig = plt.figure()\n",
    "ax = fig.add_subplot(1,1,1)\n",
    "ax.set_aspect(1)\n",
    "\n",
    "ax.plot(x_pts, x_pts, color='black')  # black y=x line\n",
    "\n",
    "# Step through the list.  r is a dummy variable.\n",
    "#  Note the use of an f-string and LaTeX by putting rf in front of the label.\n",
    "for r in r_list:\n",
    "    ax.plot(x_pts, sine_map(r, x_pts), label=rf'$r = {r:.1f}$')\n",
    "\n",
    "ax.legend()\n",
    "ax.set_xlabel(r'$x$')\n",
    "ax.set_ylabel(r'$f(x)$')\n",
    "ax.set_title('sine map')\n",
    "\n",
    "fig.tight_layout()\n"
   ]
  },
  {
   "cell_type": "markdown",
   "metadata": {},
   "source": [
    "Now suppose we want each of the different $r$ values to be plotted on separate graphs.  We could make multiple copies of the single plot.  Instead, let's make a function to do any single plot and call it for each $r$ in the list."
   ]
  },
  {
   "cell_type": "code",
   "execution_count": null,
   "metadata": {},
   "outputs": [],
   "source": [
    "r_list = [0.3, 0.5, 0.8, 0.9]    # this could also be a numpy array\n",
    "\n",
    "def plot_sine_map(r):\n",
    "    x_pts = np.linspace(0,1, num=101, endpoint=True)\n",
    "\n",
    "    fig = plt.figure()\n",
    "    ax = fig.add_subplot(1,1,1)\n",
    "    ax.set_aspect(1)\n",
    "\n",
    "    ax.plot(x_pts, x_pts, color='black')  # black y=x line\n",
    "\n",
    "#  Note the use of an f-string and LaTeX by putting rf in front of the label.\n",
    "    ax.plot(x_pts, sine_map(r, x_pts), label=rf'$r = {r:.1f}$')\n",
    "\n",
    "    ax.legend()\n",
    "    ax.set_xlabel(r'$x$')\n",
    "    ax.set_ylabel(r'$f(x)$')\n",
    "    ax.set_title(rf'sine map for $r = {r:.1f}$')\n",
    "    \n",
    "    fig.tight_layout()\n",
    "\n",
    "    \n",
    "# Step through the list.  r is a dummy variable.\n",
    "for r in r_list:\n",
    "    plot_sine_map(r)\n"
   ]
  },
  {
   "cell_type": "markdown",
   "metadata": {},
   "source": [
    "What if instead of distinct plots we wanted subplots of the same figure?  Then create the figure and subplot axes outside of the function and have the function return the modified axis object."
   ]
  },
  {
   "cell_type": "code",
   "execution_count": null,
   "metadata": {},
   "outputs": [],
   "source": [
    "r_list = [0.3, 0.5, 0.8, 0.9]    # this could also be a numpy array\n",
    "\n",
    "def plot_sine_map(r, ax_passed):\n",
    "    x_pts = np.linspace(0,1, num=101, endpoint=True)\n",
    "\n",
    "    ax_passed.set_aspect(1)\n",
    "\n",
    "    ax_passed.plot(x_pts, x_pts, color='black')  # black y=x line\n",
    "\n",
    "#  Note the use of an f-string and LaTeX by putting rf in front of the label.\n",
    "    ax_passed.plot(x_pts, sine_map(r, x_pts), label=rf'$r = {r:.1f}$')\n",
    "\n",
    "    ax_passed.legend()\n",
    "    ax_passed.set_xlabel(r'$x$')\n",
    "    ax_passed.set_ylabel(r'$f(x)$')\n",
    "    ax_passed.set_title(rf'sine map for $r = {r:.1f}$')\n",
    "    \n",
    "    return ax_passed\n",
    "\n",
    "fig = plt.figure(figsize=(8, 8))\n",
    "  \n",
    "# Step through the list.  r is a dummy variable.\n",
    "rows = 2\n",
    "cols = 2\n",
    "for index, r in enumerate(r_list):\n",
    "    ax = fig.add_subplot(rows, cols, index+1)\n",
    "    ax = plot_sine_map(r, ax)\n",
    "\n",
    "fig.tight_layout()\n",
    "    "
   ]
  },
  {
   "cell_type": "markdown",
   "metadata": {},
   "source": [
    "------\n",
    "## Part 3: Solving ordinary differential equations (ODEs)\n",
    "------\n",
    "\n",
    "Newton's Second Law for one particle,\n",
    "\n",
    "$\\begin{align}\n",
    "  \\mathbf{F} = m\\mathbf{a} = m\\frac{d\\mathbf{v}}{dt} = m\\frac{d^2\\mathbf{r}}{dt^2}\\,,\n",
    "\\end{align}$ \n",
    "\n",
    "is a first-order differential equation in the velocity vector and a second-order differential equation in the position vector. Here we assume that $\\mathbf{F} = \\mathbf{F}(\\mathbf{x}, \\mathbf{v}, t)$ does not have higher derivatives. To determine the dynamics of our mass point, we need to know how to solve such differential equations, usually with initial conditions - this defines an *initial value problem* (as opposed to a *boundary value problem* that specifies conditions for the function at coordinate boundaries). \n",
    "\n",
    "Here is how we can solve ODEs with the Scipy function `odeint`.  (Note that `solve_ivp` is now preferred to `odeint`; we'll switch to that later.)"
   ]
  },
  {
   "cell_type": "markdown",
   "metadata": {},
   "source": [
    "### First-order ODE"
   ]
  },
  {
   "cell_type": "code",
   "execution_count": null,
   "metadata": {},
   "outputs": [],
   "source": [
    "# Import the required modules\n",
    "import numpy as np\n",
    "import matplotlib.pyplot as plt\n",
    "\n",
    "from scipy.integrate import odeint  # Get only odeint from scipy.integrate\n",
    "# for the future:\n",
    "from scipy.integrate import solve_ivp   # Now preferred to odeint"
   ]
  },
  {
   "cell_type": "markdown",
   "metadata": {},
   "source": [
    "Let's try a one-dimensional first-order ODE, say:\n",
    "\n",
    "$\\begin{align}\n",
    "\\quad \n",
    "\\frac{dv}{dt} = -g, \\quad \\mbox{with} \\quad v(0) = 10\n",
    "\\end{align}$\n",
    "\n",
    "in some appropriate units (we'll use SI units by default).  This ODE can be separated and directly integrated:\n",
    "\n",
    "$\\begin{align}\n",
    "  \\int_{v_0=10}^{v} dv' = - g \\int_{0}^{t} dt'\n",
    "  \\quad\\Longrightarrow\\quad\n",
    "    v - v_0 = - g (t - 0)\n",
    "  \\quad\\Longrightarrow\\quad\n",
    "   v(t) = 10 - gt\n",
    "\\end{align}$\n",
    "\n"
   ]
  },
  {
   "cell_type": "code",
   "execution_count": null,
   "metadata": {},
   "outputs": [],
   "source": [
    "# Define a function which calculates the derivative\n",
    "def dv_dt(v, t, g=9.8):\n",
    "    \"\"\"Returns the right side of a simple first-order ODE with default g.\"\"\"\n",
    "    return -g   \n",
    "\n",
    "t_pts = np.linspace(0., 10., 100)     # 100 points between t=0 and t=10.\n",
    "v_0 = 10.0  # the initial condition\n",
    "v_pts = odeint(dv_dt, v_0, t_pts)  # odeint( function for rhs, \n",
    "                                   #         initial value of v(t),\n",
    "                                   #         array of t values )\n"
   ]
  },
  {
   "cell_type": "markdown",
   "metadata": {},
   "source": [
    "Let's check the output $v(t)$.  Does it make sense?"
   ]
  },
  {
   "cell_type": "code",
   "execution_count": null,
   "metadata": {},
   "outputs": [],
   "source": [
    "v_pts"
   ]
  },
  {
   "cell_type": "markdown",
   "metadata": {},
   "source": [
    "Now plot the $v(t)$ you calculated numerically and the analytic solution:"
   ]
  },
  {
   "cell_type": "code",
   "execution_count": null,
   "metadata": {},
   "outputs": [],
   "source": [
    "g = 9.8\n",
    "v_pts_exact = v_0 - g*t_pts\n",
    "\n",
    "fig = plt.figure()\n",
    "ax = fig.add_subplot(1,1,1)\n",
    "ax.plot(t_pts, v_pts, label='numerical', color='blue', lw=4)\n",
    "ax.plot(t_pts, v_pts_exact, label='exact', color='red')\n",
    "\n",
    "ax.set_xlabel('t [sec]')\n",
    "ax.set_ylabel('v(t) [meters/sec]')\n",
    "\n",
    "ax.legend();"
   ]
  },
  {
   "cell_type": "markdown",
   "metadata": {},
   "source": [
    "We adjusted the colors and linewidths so you could see that the lines are on top of each other."
   ]
  },
  {
   "cell_type": "markdown",
   "metadata": {},
   "source": [
    "### <span style=\"color:yellow\">Exercise</span>:\n",
    "\n",
    "1. Try using the above procedures to solve the following problem instead:\n",
    "\n",
    "$\\begin{align}\n",
    "\\quad \n",
    "\\frac{dx}{dt} = -x \\quad \\mbox{with} \\quad x(0) = 1\n",
    "\\end{align}$\n",
    "\n",
    "(both analytically and numerically). \n",
    "- Make your own notebook to solve.\n",
    "- Document your work with Markdown cells.\n",
    "- Create your own plots to demonstrate your result.\n",
    "- Be sure to add labels, and do not use default colors for the plot line(s)."
   ]
  },
  {
   "cell_type": "markdown",
   "metadata": {},
   "source": [
    "### Second-order ODE"
   ]
  },
  {
   "cell_type": "markdown",
   "metadata": {},
   "source": [
    "Suppose we have a second-order ODE such as:\n",
    "\n",
    "$$\n",
    "\\quad \\ddot{y} + 2 \\dot{y} + 2 y = \\cos(2x), \\quad \\quad y(0) = 0, \\; \\dot{y}(0) = 0\n",
    "$$\n",
    "\n",
    "We can turn this into two first-order equations by defining a new dependent variable. For example,\n",
    "\n",
    "$$\n",
    "\\quad z \\equiv \\dot{y} \\quad \\Rightarrow \\quad \\dot{z} + 2 z + 2y = \\cos(2x), \\quad z(0) = y(0) = 0.\n",
    "$$\n",
    "\n",
    "Now introduce the vector \n",
    "\n",
    "$$\n",
    "  \\mathbf{U}(x) = \\left(\\begin{array}{c}\n",
    "                         y(x) \\\\\n",
    "                         z(x)\n",
    "                        \\end{array}\n",
    "                  \\right)\n",
    "        \\quad\\Longrightarrow\\quad\n",
    "    \\frac{d\\mathbf{U}}{dx} = \\left(\\begin{array}{c}\n",
    "                                    z \\\\\n",
    "                                    -2 \\dot{y} - 2 y + \\cos(2x)\n",
    "                                   \\end{array}\n",
    "                             \\right) \n",
    "$$\n",
    "\n",
    "We can solve this system of ODEs using `odeint` with lists, as follows:"
   ]
  },
  {
   "cell_type": "code",
   "execution_count": null,
   "metadata": {},
   "outputs": [],
   "source": [
    "# Define a function for the right side\n",
    "def dU_dx(U, x):\n",
    "    \"\"\"Right side of the differential equation to be solved.\n",
    "    U is a two-component vector with y=U[0] and z=U[1]. \n",
    "    Thus this function should return [y', z']\n",
    "    \"\"\"\n",
    "    return [U[1], -2*U[1] - 2*U[0] + np.cos(2*x)]\n",
    "\n",
    "# initial condition U_0 = [y(0)=0, z(0)=y'(0)=0]\n",
    "U_0 = [0., 0.]\n",
    "\n",
    "x_pts = np.linspace(0, 15, 200)  # Set up the mesh of x points\n",
    "U_pts = odeint(dU_dx, U_0, x_pts)  # U_pts is a 2-dimensional array\n",
    "y_pts = U_pts[:,0]   # Ok, this is tricky.  For each x, U_pts has two \n",
    "                     #  components.  We want the upper component for all\n",
    "                     #  x, which is y(x).  The : means all of the first \n",
    "                     #  index, which is x, and the 0 means the first\n",
    "                     #  component in the other dimension."
   ]
  },
  {
   "cell_type": "code",
   "execution_count": null,
   "metadata": {},
   "outputs": [],
   "source": [
    "fig = plt.figure()\n",
    "ax = fig.add_subplot(1,1,1)\n",
    "ax.plot(x_pts, y_pts)\n",
    "ax.set_xlabel('x')\n",
    "ax.set_ylabel('y')"
   ]
  },
  {
   "cell_type": "markdown",
   "metadata": {},
   "source": [
    "-------\n",
    "## Part 4: Adding Interactivity with Widgets\n",
    "----------------\n",
    "\n",
    "A widget is an object such as a slider or a check box or a pulldown menu.  We can use them to make it easy to explore different parameter values in a problem we're solving, which is invaluable for building intuition.  They act on the argument of a function.  We'll look at a simple case here but plan to explore this much more as we proceed.\n",
    "\n",
    "The set of widgets we'll use here (there are others!) is from `ipywidgets`; we'll conventionally import the module as `import ipywidgets as widgets` and we'll also often use `display` from `Ipython.display`."
   ]
  },
  {
   "cell_type": "code",
   "execution_count": null,
   "metadata": {},
   "outputs": [],
   "source": [
    "import numpy as np\n",
    "import matplotlib.pyplot as plt\n",
    "\n",
    "import ipywidgets as widgets\n",
    "from IPython.display import display\n",
    "\n",
    "%matplotlib inline"
   ]
  },
  {
   "cell_type": "markdown",
   "metadata": {},
   "source": [
    "The easiest way of introducing interactivity in a notebook is to use `interact`, which we pass a function name and the variables with ranges.  By default this makes a *slider*, which takes on integer or floating point values depending on whether you put decimal points in the range. **Try it! Then modify the function and try again.**"
   ]
  },
  {
   "cell_type": "code",
   "execution_count": null,
   "metadata": {},
   "outputs": [],
   "source": [
    "# We can do this to any function\n",
    "def test_f(x=5.):\n",
    "    \"\"\"Test function that prints the passed value and its square.\n",
    "       Note that there is no return value in this case.\"\"\"\n",
    "    print ('x = ', x, ' and  x^2 = ', x**2)\n",
    "    \n",
    "widgets.interact(test_f, x=(0.,10.));"
   ]
  },
  {
   "cell_type": "code",
   "execution_count": null,
   "metadata": {},
   "outputs": [],
   "source": [
    "# Explicit declaration of the widget (here FloatSlider) and details\n",
    "def test_f(x=5.):\n",
    "    \"\"\"Test function that prints the passed value and its square.\n",
    "       Note that there is no return value in this case.\"\"\"\n",
    "    print ('x = ', x, ' and  x^2 = ', x**2)\n",
    "    \n",
    "widgets.interact(test_f, \n",
    "                 x = widgets.FloatSlider(min=-10,max=30,step=1,value=10));"
   ]
  },
  {
   "cell_type": "markdown",
   "metadata": {},
   "source": [
    "Here's an example with some bells and whistles for a plot.  **Try making changes!**"
   ]
  },
  {
   "cell_type": "code",
   "execution_count": null,
   "metadata": {},
   "outputs": [],
   "source": [
    "def plot_it(freq=1., color='blue', lw=2, grid=True, xlabel='x', \n",
    "            function='sin'):\n",
    "    \"\"\" Make a simple plot of a trig function but allow the plot style\n",
    "        to be changed as well as the function and frequency.\"\"\"\n",
    "    t = np.linspace(-1., +1., 1000)  # linspace(min, max, total #)\n",
    "\n",
    "    fig = plt.figure(figsize=(8,6))\n",
    "    ax = fig.add_subplot(1,1,1)\n",
    "\n",
    "    if function=='sin':\n",
    "        ax.plot(t, np.sin(2*np.pi*freq*t), lw=lw, color=color)\n",
    "    elif function=='cos':\n",
    "        ax.plot(t, np.cos(2*np.pi*freq*t), lw=lw, color=color)\n",
    "    elif function=='tan':\n",
    "        ax.plot(t, np.tan(2*np.pi*freq*t), lw=lw, color=color)\n",
    "\n",
    "    ax.grid(grid)\n",
    "    ax.set_xlabel(xlabel)\n",
    "    \n",
    "widgets.interact(plot_it, \n",
    "                 freq=(0.1, 2.), color=['blue', 'red', 'green'], \n",
    "                 lw=(1, 10), xlabel=['x', 't', 'dog'],\n",
    "                 function=['sin', 'cos', 'tan'])\n",
    "    "
   ]
  },
  {
   "cell_type": "code",
   "execution_count": null,
   "metadata": {},
   "outputs": [],
   "source": []
  }
 ],
 "metadata": {
  "kernelspec": {
   "display_name": "Python 3 (ipykernel)",
   "language": "python",
   "name": "python3"
  },
  "language_info": {
   "codemirror_mode": {
    "name": "ipython",
    "version": 3
   },
   "file_extension": ".py",
   "mimetype": "text/x-python",
   "name": "python",
   "nbconvert_exporter": "python",
   "pygments_lexer": "ipython3",
   "version": "3.10.12"
  }
 },
 "nbformat": 4,
 "nbformat_minor": 4
}
